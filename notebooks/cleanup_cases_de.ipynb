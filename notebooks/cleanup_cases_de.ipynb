{
 "cells": [
  {
   "cell_type": "markdown",
   "metadata": {},
   "source": [
    "# Fallzahlen in Deutschland breinigen"
   ]
  },
  {
   "cell_type": "code",
   "execution_count": null,
   "metadata": {},
   "outputs": [],
   "source": [
    "import pandas as pd"
   ]
  },
  {
   "cell_type": "markdown",
   "metadata": {},
   "source": [
    "### Einlesen der HTML Seite mit den Fallzahlen aus Deutschland von der Webseite.\n",
    "Die Seite wurde vorab mittels einfachen wget heruntergeladen. Direkter Zugriff wird von RKI blockiert.\n",
    "\n",
    "Die Zahlen sind, wie in Deutschland üblich mit einem `.` als Trenner für die Tausender und `,` als Komma für Dezimalzahlen dargestellt. Damit Pandas die Zahlen nicht falsch interpretiert, setzen wir die jeweiligen Konfigurationen beim Einlesen der Seite."
   ]
  },
  {
   "cell_type": "code",
   "execution_count": null,
   "metadata": {},
   "outputs": [],
   "source": [
    "df = pd.read_html('../original_data/Fallzahlen.html', decimal=',', thousands='.')"
   ]
  },
  {
   "cell_type": "code",
   "execution_count": null,
   "metadata": {},
   "outputs": [],
   "source": [
    "len(df)"
   ]
  },
  {
   "cell_type": "markdown",
   "metadata": {},
   "source": [
    "Pandas liefert in diesem Fall nicht nur ein einzelnes Dataset zurück, sondern eine Liste mit allen gefundenen und geparsten Tabellen als Pandas Dataframe. Auf der Seite des RKI gibt es derzeit nur eine Tabelle. Somit nehmen wir einfach die Erste aus dem Array der gefunden Daten."
   ]
  },
  {
   "cell_type": "code",
   "execution_count": null,
   "metadata": {},
   "outputs": [],
   "source": [
    "df_de = df[0]\n",
    "df_de.head()"
   ]
  },
  {
   "cell_type": "markdown",
   "metadata": {},
   "source": [
    "Da die Tabelle schwierig zu verarbeitende Spaltenüberschriften hat, bennen wir diese um, damit eine spätere Bereinigung einfacher ist. Die Spaltenanzahl ist bekannt, daher erledigen wir das relativ pragmatisch. "
   ]
  },
  {
   "cell_type": "code",
   "execution_count": null,
   "metadata": {},
   "outputs": [],
   "source": [
    "df_de.columns = ['Bundesland', 'Anzahl', 'diff', 'Pro_Tsd', 'Gestorben']"
   ]
  },
  {
   "cell_type": "code",
   "execution_count": null,
   "metadata": {},
   "outputs": [],
   "source": [
    "df_de.tail()"
   ]
  },
  {
   "cell_type": "markdown",
   "metadata": {},
   "source": [
    "Die Reihe mit den Gesamtsummen benötigen wir nicht und entfernen sie. Weiterhin verwerfe ich die Spalte mit den Änderungen zum Vortag. Anschließend sortieren wir das Dataframe aufsteigend nach Anzahl."
   ]
  },
  {
   "cell_type": "code",
   "execution_count": null,
   "metadata": {},
   "outputs": [],
   "source": [
    "df_de.drop(columns=['diff'], index=[16], inplace=True)\n",
    "#df_de.sort_values(by=['Anzahl'], ascending=True, inplace=True)"
   ]
  },
  {
   "cell_type": "code",
   "execution_count": null,
   "metadata": {},
   "outputs": [],
   "source": [
    "df_de.to_csv('../data/cases_germany_states.csv')"
   ]
  },
  {
   "cell_type": "markdown",
   "metadata": {},
   "source": [
    "Abschließend plotten wir eine Vorschau als horizontalen Barchart mit den registriereten Infektionen nach Bundesland."
   ]
  },
  {
   "cell_type": "code",
   "execution_count": null,
   "metadata": {},
   "outputs": [],
   "source": [
    "df_de.plot.barh(x='Bundesland', y='Anzahl')"
   ]
  },
  {
   "cell_type": "code",
   "execution_count": null,
   "metadata": {},
   "outputs": [],
   "source": []
  }
 ],
 "metadata": {
  "file_extension": ".py",
  "kernelspec": {
   "display_name": "Python 3.8.1 64-bit ('pandas': conda)",
   "language": "python",
   "name": "python38164bitpandasconda9350c6fdc71e4b2c912451a4df78a75a"
  },
  "language_info": {
   "codemirror_mode": {
    "name": "ipython",
    "version": 3
   },
   "file_extension": ".py",
   "mimetype": "text/x-python",
   "name": "python",
   "nbconvert_exporter": "python",
   "pygments_lexer": "ipython3",
   "version": "3.8.1"
  },
  "mimetype": "text/x-python",
  "name": "python",
  "npconvert_exporter": "python",
  "pygments_lexer": "ipython3",
  "version": 3
 },
 "nbformat": 4,
 "nbformat_minor": 2
}
