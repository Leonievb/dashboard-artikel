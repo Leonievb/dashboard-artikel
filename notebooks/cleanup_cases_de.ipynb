{
 "cells": [
  {
   "cell_type": "markdown",
   "metadata": {},
   "source": [
    "# Fallzahlen in Deutschland breinigen"
   ]
  },
  {
   "cell_type": "code",
   "execution_count": 1,
   "metadata": {},
   "outputs": [],
   "source": [
    "import pandas as pd"
   ]
  },
  {
   "cell_type": "markdown",
   "metadata": {},
   "source": [
    "### Einlesen der HTML Seite mit den Fallzahlen aus Deutschland von der Webseite.\n",
    "Die Seite wurde vorab mittels einfachen wget heruntergeladen. Direkter Zugriff wird von RKI blockiert.\n",
    "\n",
    "Die Zahlen sind, wie in Deutschland üblich mit einem `.` als Trenner für die Tausender und `,` als Komma für Dezimalzahlen dargestellt. Damit Pandas die Zahlen nicht falsch interpretiert, setzen wir die jeweiligen Konfigurationen beim Einlesen der Seite."
   ]
  },
  {
   "cell_type": "code",
   "execution_count": 2,
   "metadata": {},
   "outputs": [],
   "source": [
    "df = pd.read_html('../original_data/Fallzahlen.html', decimal=',', thousands='.')"
   ]
  },
  {
   "cell_type": "code",
   "execution_count": 3,
   "metadata": {},
   "outputs": [
    {
     "data": {
      "text/plain": [
       "1"
      ]
     },
     "execution_count": 3,
     "metadata": {},
     "output_type": "execute_result"
    }
   ],
   "source": [
    "len(df)"
   ]
  },
  {
   "cell_type": "markdown",
   "metadata": {},
   "source": [
    "Pandas liefert in diesem Fall nicht nur ein einzelnes Dataset zurück, sondern eine Liste mit allen gefundenen und geparsten Tabellen als Pandas Dataframe. Auf der Seite des RKI gibt es derzeit nur eine Tabelle. Somit nehmen wir einfach die Erste aus dem Array der gefunden Daten."
   ]
  },
  {
   "cell_type": "code",
   "execution_count": 4,
   "metadata": {},
   "outputs": [
    {
     "data": {
      "text/html": [
       "<div>\n",
       "<style scoped>\n",
       "    .dataframe tbody tr th:only-of-type {\n",
       "        vertical-align: middle;\n",
       "    }\n",
       "\n",
       "    .dataframe tbody tr th {\n",
       "        vertical-align: top;\n",
       "    }\n",
       "\n",
       "    .dataframe thead tr th {\n",
       "        text-align: left;\n",
       "    }\n",
       "</style>\n",
       "<table border=\"1\" class=\"dataframe\">\n",
       "  <thead>\n",
       "    <tr>\n",
       "      <th></th>\n",
       "      <th>Bundes­land</th>\n",
       "      <th colspan=\"4\" halign=\"left\">Elektro­nisch über­mittelte Fälle</th>\n",
       "    </tr>\n",
       "    <tr>\n",
       "      <th></th>\n",
       "      <th>Unnamed: 0_level_1</th>\n",
       "      <th>An­zahl</th>\n",
       "      <th>Dif­fe­renz zum Vor­tag</th>\n",
       "      <th>Fälle/ 100.000 Einw.</th>\n",
       "      <th>Todes­fälle</th>\n",
       "    </tr>\n",
       "  </thead>\n",
       "  <tbody>\n",
       "    <tr>\n",
       "      <th>0</th>\n",
       "      <td>Baden-Württem­berg</td>\n",
       "      <td>28712</td>\n",
       "      <td>+459</td>\n",
       "      <td>259</td>\n",
       "      <td>1031</td>\n",
       "    </tr>\n",
       "    <tr>\n",
       "      <th>1</th>\n",
       "      <td>Bayern</td>\n",
       "      <td>38310</td>\n",
       "      <td>+461</td>\n",
       "      <td>293</td>\n",
       "      <td>1336</td>\n",
       "    </tr>\n",
       "    <tr>\n",
       "      <th>2</th>\n",
       "      <td>Berlin</td>\n",
       "      <td>5237</td>\n",
       "      <td>+41</td>\n",
       "      <td>140</td>\n",
       "      <td>97</td>\n",
       "    </tr>\n",
       "    <tr>\n",
       "      <th>3</th>\n",
       "      <td>Brandenburg</td>\n",
       "      <td>2275</td>\n",
       "      <td>+37</td>\n",
       "      <td>91</td>\n",
       "      <td>67</td>\n",
       "    </tr>\n",
       "    <tr>\n",
       "      <th>4</th>\n",
       "      <td>Bremen</td>\n",
       "      <td>609</td>\n",
       "      <td>+5</td>\n",
       "      <td>89</td>\n",
       "      <td>25</td>\n",
       "    </tr>\n",
       "  </tbody>\n",
       "</table>\n",
       "</div>"
      ],
      "text/plain": [
       "          Bundes­land Elektro­nisch über­mittelte Fälle  \\\n",
       "   Unnamed: 0_level_1                           An­zahl   \n",
       "0  Baden-Württem­berg                             28712   \n",
       "1              Bayern                             38310   \n",
       "2              Berlin                              5237   \n",
       "3         Brandenburg                              2275   \n",
       "4              Bremen                               609   \n",
       "\n",
       "                                                            \n",
       "  Dif­fe­renz zum Vor­tag Fälle/ 100.000 Einw. Todes­fälle  \n",
       "0                    +459                  259        1031  \n",
       "1                    +461                  293        1336  \n",
       "2                     +41                  140          97  \n",
       "3                     +37                   91          67  \n",
       "4                      +5                   89          25  "
      ]
     },
     "execution_count": 4,
     "metadata": {},
     "output_type": "execute_result"
    }
   ],
   "source": [
    "df_de = df[0]\n",
    "df_de.head()"
   ]
  },
  {
   "cell_type": "markdown",
   "metadata": {},
   "source": [
    "Da die Tabelle schwierig zu verarbeitende Spaltenüberschriften hat, bennen wir diese um, damit eine spätere Bereinigung einfacher ist. Die Spaltenanzahl ist bekannt, daher erledigen wir das relativ pragmatisch. "
   ]
  },
  {
   "cell_type": "code",
   "execution_count": 5,
   "metadata": {},
   "outputs": [],
   "source": [
    "df_de.columns = ['Bundesland', 'Anzahl', 'diff', 'Pro_Tsd', 'Gestorben']"
   ]
  },
  {
   "cell_type": "code",
   "execution_count": 6,
   "metadata": {},
   "outputs": [
    {
     "data": {
      "text/html": [
       "<div>\n",
       "<style scoped>\n",
       "    .dataframe tbody tr th:only-of-type {\n",
       "        vertical-align: middle;\n",
       "    }\n",
       "\n",
       "    .dataframe tbody tr th {\n",
       "        vertical-align: top;\n",
       "    }\n",
       "\n",
       "    .dataframe thead th {\n",
       "        text-align: right;\n",
       "    }\n",
       "</style>\n",
       "<table border=\"1\" class=\"dataframe\">\n",
       "  <thead>\n",
       "    <tr style=\"text-align: right;\">\n",
       "      <th></th>\n",
       "      <th>Bundesland</th>\n",
       "      <th>Anzahl</th>\n",
       "      <th>diff</th>\n",
       "      <th>Pro_Tsd</th>\n",
       "      <th>Gestorben</th>\n",
       "    </tr>\n",
       "  </thead>\n",
       "  <tbody>\n",
       "    <tr>\n",
       "      <th>12</th>\n",
       "      <td>Sachsen</td>\n",
       "      <td>4253</td>\n",
       "      <td>+24</td>\n",
       "      <td>104</td>\n",
       "      <td>117</td>\n",
       "    </tr>\n",
       "    <tr>\n",
       "      <th>13</th>\n",
       "      <td>Sachsen-Anhalt</td>\n",
       "      <td>1383</td>\n",
       "      <td>+14</td>\n",
       "      <td>63</td>\n",
       "      <td>32</td>\n",
       "    </tr>\n",
       "    <tr>\n",
       "      <th>14</th>\n",
       "      <td>Schles­wig-Holstein</td>\n",
       "      <td>2414</td>\n",
       "      <td>-12*</td>\n",
       "      <td>83</td>\n",
       "      <td>70</td>\n",
       "    </tr>\n",
       "    <tr>\n",
       "      <th>15</th>\n",
       "      <td>Thüringen</td>\n",
       "      <td>1798</td>\n",
       "      <td>+13</td>\n",
       "      <td>84</td>\n",
       "      <td>55</td>\n",
       "    </tr>\n",
       "    <tr>\n",
       "      <th>16</th>\n",
       "      <td>Gesamt</td>\n",
       "      <td>143457</td>\n",
       "      <td>+1.785</td>\n",
       "      <td>173</td>\n",
       "      <td>4598</td>\n",
       "    </tr>\n",
       "  </tbody>\n",
       "</table>\n",
       "</div>"
      ],
      "text/plain": [
       "             Bundesland  Anzahl    diff  Pro_Tsd  Gestorben\n",
       "12              Sachsen    4253     +24      104        117\n",
       "13       Sachsen-Anhalt    1383     +14       63         32\n",
       "14  Schles­wig-Holstein    2414    -12*       83         70\n",
       "15            Thüringen    1798     +13       84         55\n",
       "16               Gesamt  143457  +1.785      173       4598"
      ]
     },
     "execution_count": 6,
     "metadata": {},
     "output_type": "execute_result"
    }
   ],
   "source": [
    "df_de.tail()"
   ]
  },
  {
   "cell_type": "markdown",
   "metadata": {},
   "source": [
    "Die Reihe mit den Gesamtsummen benötigen wir nicht und entfernen sie. Weiterhin verwerfe ich die Spalte mit den Änderungen zum Vortag. Anschließend sortieren wir das Dataframe aufsteigend nach Anzahl."
   ]
  },
  {
   "cell_type": "code",
   "execution_count": 7,
   "metadata": {},
   "outputs": [],
   "source": [
    "df_de.drop(columns=['diff'], index=[16], inplace=True)\n",
    "#df_de.sort_values(by=['Anzahl'], ascending=True, inplace=True)"
   ]
  },
  {
   "cell_type": "code",
   "execution_count": 8,
   "metadata": {},
   "outputs": [],
   "source": [
    "df_de.to_csv('../data/cases_germany_states.csv')"
   ]
  },
  {
   "cell_type": "markdown",
   "metadata": {},
   "source": [
    "Abschließend plotten wir eine Vorschau als horizontalen Barchart mit den registriereten Infektionen nach Bundesland."
   ]
  },
  {
   "cell_type": "code",
   "execution_count": 9,
   "metadata": {},
   "outputs": [
    {
     "data": {
      "text/plain": [
       "<matplotlib.axes._subplots.AxesSubplot at 0x1195bd370>"
      ]
     },
     "execution_count": 9,
     "metadata": {},
     "output_type": "execute_result"
    },
    {
     "data": {
      "image/png": "[encoded data removed]",
      "text/plain": [
       "<Figure size 432x288 with 1 Axes>"
      ]
     },
     "metadata": {
      "needs_background": "light"
     },
     "output_type": "display_data"
    }
   ],
   "source": [
    "df_de.plot.barh(x='Bundesland', y='Anzahl')"
   ]
  },
  {
   "cell_type": "code",
   "execution_count": null,
   "metadata": {},
   "outputs": [],
   "source": []
  }
 ],
 "metadata": {
  "file_extension": ".py",
  "kernelspec": {
   "display_name": "Python 3.8.1 64-bit ('pandas': conda)",
   "language": "python",
   "name": "python38164bitpandasconda9350c6fdc71e4b2c912451a4df78a75a"
  },
  "language_info": {
   "codemirror_mode": {
    "name": "ipython",
    "version": 3
   },
   "file_extension": ".py",
   "mimetype": "text/x-python",
   "name": "python",
   "nbconvert_exporter": "python",
   "pygments_lexer": "ipython3",
   "version": "3.8.1"
  },
  "mimetype": "text/x-python",
  "name": "python",
  "npconvert_exporter": "python",
  "pygments_lexer": "ipython3",
  "version": 3
 },
 "nbformat": 4,
 "nbformat_minor": 2
}
