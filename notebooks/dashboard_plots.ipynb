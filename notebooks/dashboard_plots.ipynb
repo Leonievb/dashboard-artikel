{
 "cells": [
  {
   "cell_type": "code",
   "execution_count": null,
   "metadata": {},
   "outputs": [],
   "source": [
    "import pandas as pd\n",
    "import plotly.express as px"
   ]
  },
  {
   "cell_type": "code",
   "execution_count": null,
   "metadata": {},
   "outputs": [],
   "source": [
    "df_ts = pd.read_csv('../data/Germany_timeseries.csv')"
   ]
  },
  {
   "cell_type": "code",
   "execution_count": null,
   "metadata": {},
   "outputs": [],
   "source": [
    "fig_ts = px.line(df_ts, \n",
    "                 x=\"date\", \n",
    "                 y=\"sum\",\n",
    "                 template='ggplot2')\n",
    "\n",
    "fig_ts.update_layout(xaxis_type='date',\n",
    "                  xaxis={\n",
    "                      'title': 'Datum'\n",
    "                  },\n",
    "                  yaxis={\n",
    "                      'title': 'Infektionen',\n",
    "                      'type': 'linear',\n",
    "                  },\n",
    "                  title_text='Infektionen in Deutschland')\n"
   ]
  },
  {
   "cell_type": "code",
   "execution_count": null,
   "metadata": {},
   "outputs": [],
   "source": [
    "fig_ts.show(\"notebook\")"
   ]
  },
  {
   "cell_type": "markdown",
   "metadata": {},
   "source": [
    "### Alle Bundesländer in Deutschland"
   ]
  },
  {
   "cell_type": "code",
   "execution_count": null,
   "metadata": {},
   "outputs": [],
   "source": [
    "df_fs = pd.read_csv('../data/cases_germany_states.csv')"
   ]
  },
  {
   "cell_type": "code",
   "execution_count": null,
   "metadata": {},
   "outputs": [],
   "source": [
    "df_fs.sort_values(by=['Anzahl'], ascending=True, inplace=True)"
   ]
  },
  {
   "cell_type": "code",
   "execution_count": null,
   "metadata": {},
   "outputs": [],
   "source": [
    "fig_fs = px.bar(df_fs, x='Anzahl', \n",
    "                y='Bundesland',\n",
    "                hover_data=['Gestorben'],\n",
    "                height=600, \n",
    "                orientation='h',\n",
    "                labels={'Gestorben':'Bereits verstorben'},\n",
    "                template='ggplot2')\n",
    "\n",
    "fig_fs.update_layout(xaxis={\n",
    "                       'title': 'Anzahl der Infektionen'\n",
    "                     },\n",
    "                     yaxis={\n",
    "                       'title': '',\n",
    "                     },\n",
    "                     title_text='Infektionen in Deutschland')"
   ]
  },
  {
   "cell_type": "code",
   "execution_count": null,
   "metadata": {},
   "outputs": [],
   "source": [
    "fig_fs.show('notebook')"
   ]
  },
  {
   "cell_type": "code",
   "execution_count": null,
   "metadata": {},
   "outputs": [],
   "source": [
    "fig_fs_pie = px.pie(df_fs, \n",
    "                    values='Anzahl', \n",
    "                    names='Bundesland', \n",
    "                    title='Verteilung auf Bundesländer', \n",
    "                    template='ggplot2')"
   ]
  },
  {
   "cell_type": "code",
   "execution_count": null,
   "metadata": {},
   "outputs": [],
   "source": [
    "fig_fs_pie.show('notebook')"
   ]
  },
  {
   "cell_type": "code",
   "execution_count": null,
   "metadata": {},
   "outputs": [],
   "source": [
    "df_ww_cases = pd.read_csv('../data/Total_cases_wordlwide.csv')"
   ]
  },
  {
   "cell_type": "code",
   "execution_count": null,
   "metadata": {},
   "outputs": [],
   "source": [
    "fig_geo_ww = px.scatter_geo(df_ww_cases, \n",
    "                     locations=\"Country_Region\",\n",
    "                     hover_name=\"Country_Region\",\n",
    "                     hover_data=['Confirmed', 'Recovered', 'Deaths'],\n",
    "                     size=\"Confirmed\",\n",
    "                     locationmode='country names',\n",
    "                     text='Country_Region',\n",
    "                     scope='world',\n",
    "                     labels={\n",
    "                         'Country_Region':'Land',\n",
    "                         'Confirmed':'Bereits verstorben',\n",
    "                         'Recovered':'Wieder geheilt',\n",
    "                         'Deaths':'Verstorbene',\n",
    "                     },\n",
    "                     projection=\"equirectangular\",\n",
    "                     size_max=35,\n",
    "                     template='ggplot2',\n",
    "                     title='Cases Worldwide')\n"
   ]
  },
  {
   "cell_type": "code",
   "execution_count": null,
   "metadata": {},
   "outputs": [],
   "source": [
    "fig_geo_ww.show('notebook')"
   ]
  }
 ],
 "metadata": {
  "kernelspec": {
   "display_name": "Python 3.8.2 64-bit ('corona-dashboard': conda)",
   "language": "python",
   "name": "python38264bitcoronadashboardconda650fc831d7524f2fb51eeb5ac88c531f"
  },
  "language_info": {
   "codemirror_mode": {
    "name": "ipython",
    "version": 3
   },
   "file_extension": ".py",
   "mimetype": "text/x-python",
   "name": "python",
   "nbconvert_exporter": "python",
   "pygments_lexer": "ipython3",
   "version": "3.8.2"
  }
 },
 "nbformat": 4,
 "nbformat_minor": 4
}
